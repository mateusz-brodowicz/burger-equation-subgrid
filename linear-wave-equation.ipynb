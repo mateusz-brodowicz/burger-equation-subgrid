{
 "cells": [
  {
   "cell_type": "markdown",
   "id": "98e94d0a-d2dd-487b-b84e-f6e147c16fab",
   "metadata": {},
   "source": [
    "## 1-D Linear Wave Equation, proof of preservation of energy ##"
   ]
  },
  {
   "cell_type": "markdown",
   "id": "5b9249fa-6c60-4231-b827-322302a5effd",
   "metadata": {},
   "source": [
    "Consider the one dimensional case of linear wave equation defined as follows:\n",
    "\n",
    "\\begin{align}\n",
    "\\frac{\\partial^2 u}{\\partial t^2} = c^2 \\frac{\\partial^2 u}{\\partial x^2}\n",
    "\\end{align}\n",
    "\n",
    "with $x\\in[0,L],t\\in(0,\\infty),c^2=\\frac{\\tau}{\\rho}$ To show that the total energy is conserved we need to show that the rate of change over time of the total energy is equal to zero. We define the total energy as the sum of kinetic and potential energy in the system.\n",
    "\n",
    "$$\n",
    "E_{T} = E_{K}(t,x) + E_{P}(t,x)\n",
    "$$\n",
    "\n",
    "Note that differential of the wave arc length can be defined as $ds=\\sqrt{1 + \\frac{\\partial u}{\\partial x}}\\to dx$. The kinetic energy is $E_{K}(t,x) = \\frac{1}{2}mv^2$. Given the mass $\\rho$ and velocity $\\frac{\\partial u}{\\partial t}$, then $E_{K}(t,x) = \\frac{\\rho}{2}\\int_{0}^{L}(\\frac{\\partial u}{\\partial t})^2dx$ is the total kinetic energy of the system at time t. Similarly, for the potential energy part we get $E_{P}(t,x) = \\frac{\\tau}{2}\\int_{0}^{L}(\\frac{\\partial u}{\\partial x})^2dx$.\n",
    "\n",
    "Finally the last step is to find $\\frac{\\partial}{\\partial t}E_{T}$. We do this by inegration by parts and substitution of orignal PDE into one of the integrals.\n",
    "\n",
    "\\begin{align*}\n",
    "E_0(t) &= \\rho \\int_0^L \\frac{\\partial u}{\\partial t} \\frac{\\partial^2 u}{\\partial t^2} dx + \\tau \\int_0^L \\frac{\\partial u}{\\partial x} \\frac{\\partial^2 u}{\\partial t \\partial x} dx, \\\\\n",
    "&= \\rho \\int_0^L \\frac{\\partial u}{\\partial t} \\frac{\\partial^2 u}{\\partial t^2} dx + \\tau \\int_0^L \\frac{\\partial u}{\\partial x} \\frac{\\partial^2 u}{\\partial x \\partial t} dx, \\\\\n",
    "&= \\rho \\int_0^L \\frac{\\partial u}{\\partial t} \\frac{\\partial^2 u}{\\partial t^2} dx + \\tau \\left[ \\frac{\\partial u}{\\partial x} \\frac{\\partial u}{\\partial t} \\right]_0^L - \\int_0^L \\frac{\\partial u}{\\partial t} \\frac{\\partial^2 u}{\\partial x^2} dx, \\\\\n",
    "\\end{align*}\n",
    "\\begin{align*}\n",
    "&= \\rho \\int_0^L \\frac{\\partial u}{\\partial t} \\frac{\\partial^2 u}{\\partial t^2} dx - \\tau \\int_0^L \\frac{\\partial u}{\\partial t} \\frac{\\partial^2 u}{\\partial x^2} dx, \\\\\n",
    "&= \\rho c^2 \\int_0^L \\frac{\\partial u}{\\partial t} \\frac{\\partial^2 u}{\\partial x^2} dx - \\tau \\int_0^L \\frac{\\partial u}{\\partial t} \\frac{\\partial^2 u}{\\partial x^2} dx, \\\\\n",
    "&= 0\n",
    "\\end{align*}\n",
    "\n",
    "This shows that the energy is conserved in the linear wave equation. Note that in this derivation we used the Leibnitz rule for moving the differentiation under the integral sign, as the wave equation is continuous over its whole domain and the limits of integration are constant."
   ]
  },
  {
   "cell_type": "markdown",
   "id": "aed108c9-e566-41f9-8966-f3139903a971",
   "metadata": {},
   "source": [
    "## N-D Linear Wave Equation, proof of preservation of energy ##"
   ]
  },
  {
   "cell_type": "markdown",
   "id": "cabb3b3f-fdad-4039-af8c-74520de36d4d",
   "metadata": {},
   "source": [
    "It gets more tricky here, I'll get back to this."
   ]
  },
  {
   "cell_type": "markdown",
   "id": "c8e60cb6-de1a-4b10-8ef4-6bbe758a080f",
   "metadata": {},
   "source": [
    "## Solving the 1-D linear wave equation using flux discretization ##"
   ]
  },
  {
   "cell_type": "code",
   "execution_count": 10,
   "id": "ca5e2f71-b82f-42b1-b81a-3f0e699f3538",
   "metadata": {},
   "outputs": [],
   "source": [
    "# imports\n",
    "\n",
    "import numpy as np\n",
    "import math\n",
    "import matplotlib.animation as animation\n",
    "\n",
    "from ipywidgets import interact\n",
    "from matplotlib import pyplot as plt\n",
    "from IPython.display import HTML"
   ]
  },
  {
   "cell_type": "markdown",
   "id": "77c6d292-e616-4f2e-a3c5-68653521618f",
   "metadata": {},
   "source": [
    "## Initial condition u = sin(x), case 1 with non-periodic and case 2 with periodic domains ##"
   ]
  },
  {
   "cell_type": "code",
   "execution_count": 34,
   "id": "a86d02a2-6167-46bf-ba57-44bcdd959529",
   "metadata": {},
   "outputs": [
    {
     "data": {
      "application/vnd.jupyter.widget-view+json": {
       "model_id": "b4c36d8d45654fffa4f1ebb19b8e5e98",
       "version_major": 2,
       "version_minor": 0
      },
      "text/plain": [
       "interactive(children=(IntSlider(value=0, description='n', max=1000), Output()), _dom_classes=('widget-interact…"
      ]
     },
     "metadata": {},
     "output_type": "display_data"
    },
    {
     "data": {
      "text/plain": [
       "<function __main__.plot_solution(n=0)>"
      ]
     },
     "execution_count": 34,
     "metadata": {},
     "output_type": "execute_result"
    }
   ],
   "source": [
    "# CASE 1\n",
    "\n",
    "# Constants\n",
    "L = 1  # Domain length\n",
    "T = 3.0  # Simulation time\n",
    "Nx = 50 # Number of spatial cells\n",
    "Nt = 1000  # Number of time steps\n",
    "a = 1.0  # Wave speed\n",
    "\n",
    "# Define grid\n",
    "x = np.linspace(0, L, Nx+1)\n",
    "dx = L / Nx\n",
    "dt = T / Nt\n",
    "\n",
    "# Gaussian pulse as initial condition\n",
    "u = np.sin(x)\n",
    "\n",
    "# Initialize an array to store the solution at all time steps\n",
    "u_all = np.zeros((Nt+1, Nx+1))\n",
    "u_all[0, :] = u\n",
    "\n",
    "# Time-stepping loop\n",
    "for n in range(Nt):\n",
    "    F = 0.5 * a * (np.roll(u, -1) + u)\n",
    "    u[1:-1] -= dt/dx * (F[1:-1] - F[:-2])\n",
    "    u[0] = 0\n",
    "    u[-1] = 0\n",
    "    u_all[n+1, :] = u\n",
    "\n",
    "# Interactive plot\n",
    "def plot_solution(n=0):\n",
    "    plt.figure(figsize=(6,4))\n",
    "    plt.plot(x, u_all[n, :])\n",
    "    plt.ylim(-1.5, 1.5)\n",
    "    plt.grid()\n",
    "    plt.show()\n",
    "\n",
    "interact(plot_solution, n=(0, Nt, 1))\n"
   ]
  },
  {
   "cell_type": "code",
   "execution_count": 30,
   "id": "37754dfb-6c36-4fa4-a601-b13e30b26eec",
   "metadata": {},
   "outputs": [
    {
     "data": {
      "application/vnd.jupyter.widget-view+json": {
       "model_id": "3481116d76334016bab1851edfbe1e65",
       "version_major": 2,
       "version_minor": 0
      },
      "text/plain": [
       "interactive(children=(IntSlider(value=0, description='n', max=1000), Output()), _dom_classes=('widget-interact…"
      ]
     },
     "metadata": {},
     "output_type": "display_data"
    },
    {
     "data": {
      "text/plain": [
       "<function __main__.plot_solution(n=0)>"
      ]
     },
     "execution_count": 30,
     "metadata": {},
     "output_type": "execute_result"
    }
   ],
   "source": [
    "# CASE 2\n",
    "\n",
    "# Constants\n",
    "L = np.pi  # Domain length\n",
    "T = 5.0  # Simulation time\n",
    "Nx = 100  # Number of spatial cells\n",
    "Nt = 1000  # Number of time steps\n",
    "a = 1.0 # Wave speed\n",
    "\n",
    "# Define grid\n",
    "x = np.linspace(0, L, Nx+1)\n",
    "dx = L / Nx\n",
    "dt = T / Nt\n",
    "\n",
    "# Gaussian pulse as initial condition\n",
    "u = np.sin(x)\n",
    "\n",
    "# Initialize an array to store the solution at all time steps\n",
    "u_all = np.zeros((Nt+1, Nx+1))\n",
    "u_all[0, :] = u\n",
    "\n",
    "# Time-stepping loop\n",
    "for n in range(Nt):\n",
    "    F = 0.5 * a * (np.roll(u, -1) + u)\n",
    "    u[1:-1] -= dt/dx * (F[1:-1] - F[:-2])\n",
    "    u[0] = 0\n",
    "    u[-1] = 0\n",
    "    u_all[n+1, :] = u\n",
    "\n",
    "# Interactive plot\n",
    "def plot_solution(n=0):\n",
    "    plt.figure(figsize=(6,4))\n",
    "    plt.plot(x, u_all[n, :])\n",
    "    plt.ylim(-1.5, 1.5)\n",
    "    plt.grid()\n",
    "    plt.show()\n",
    "\n",
    "interact(plot_solution, n=(0, Nt, 1))\n"
   ]
  },
  {
   "cell_type": "code",
   "execution_count": null,
   "id": "52a78d5f-a79c-4e13-a61d-ac93b82e310a",
   "metadata": {},
   "outputs": [],
   "source": []
  }
 ],
 "metadata": {
  "kernelspec": {
   "display_name": "Python 3 (ipykernel)",
   "language": "python",
   "name": "python3"
  },
  "language_info": {
   "codemirror_mode": {
    "name": "ipython",
    "version": 3
   },
   "file_extension": ".py",
   "mimetype": "text/x-python",
   "name": "python",
   "nbconvert_exporter": "python",
   "pygments_lexer": "ipython3",
   "version": "3.9.13"
  }
 },
 "nbformat": 4,
 "nbformat_minor": 5
}
